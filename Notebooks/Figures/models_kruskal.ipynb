{
 "cells": [
  {
   "cell_type": "code",
   "execution_count": 7,
   "metadata": {},
   "outputs": [],
   "source": [
    "from scipy import stats\n",
    "import statistics\n",
    "\n",
    "# Imports python libraries\n",
    "import numpy as np\n",
    "import pandas as pd\n",
    "from tqdm import tqdm\n",
    "import matplotlib.pyplot as plt\n",
    "\n"
   ]
  },
  {
   "cell_type": "code",
   "execution_count": 17,
   "metadata": {},
   "outputs": [
    {
     "name": "stdout",
     "output_type": "stream",
     "text": [
      "KruskalResult(statistic=0.5345454545454515, pvalue=0.4647020999404661)\n"
     ]
    }
   ],
   "source": [
    "withcliffs = [0.7387632046763577, 0.7429990624256508, 0.7381027842585162, 0.7352040291872841, 0.7360553702609]\n",
    "nocliffs = [0.7361344478480285, 0.7407544799639489, 0.7356583892977511, 0.7375650282529636, 0.7347571212570954]\n",
    "kruskal = stats.kruskal(withcliffs, nocliffs)\n",
    "print(kruskal)"
   ]
  },
  {
   "cell_type": "code",
   "execution_count": 402,
   "metadata": {
    "jupyter": {
     "source_hidden": true
    }
   },
   "outputs": [
    {
     "name": "stdout",
     "output_type": "stream",
     "text": [
      "[0.5634077887956774, 0.5634077887956774, 0.5634077887956774, 0.5634077887956774, 0.5634077887956774]\n",
      "mean 0.5634077887956774\n",
      "std 0.0\n"
     ]
    }
   ],
   "source": [
    "list = []\n",
    "nums = [1,2,3,4,5]\n",
    "for num in nums:\n",
    "    lijst = []\n",
    "    data = pd.read_csv(f'../Notebooks/activity_cliffs_data/variables/merged_variables_{num}.csv')\n",
    "    r2 = data.iloc[53:54, 5].values\n",
    "    list.append(r2[0])\n",
    "    \n",
    "print(list)\n",
    "print(\"mean\", statistics.mean(list))\n",
    "print(\"std\", statistics.stdev(list))"
   ]
  },
  {
   "cell_type": "code",
   "execution_count": 10,
   "metadata": {},
   "outputs": [
    {
     "ename": "FileNotFoundError",
     "evalue": "[Errno 2] No such file or directory: '../Notebooks/activity_cliffs_data/variables/merged_variables_1.csv'",
     "output_type": "error",
     "traceback": [
      "\u001b[1;31m---------------------------------------------------------------------------\u001b[0m",
      "\u001b[1;31mFileNotFoundError\u001b[0m                         Traceback (most recent call last)",
      "\u001b[1;32m<ipython-input-10-d1ab4b4a7f76>\u001b[0m in \u001b[0;36m<module>\u001b[1;34m\u001b[0m\n\u001b[0;32m      2\u001b[0m \u001b[0mnums\u001b[0m \u001b[1;33m=\u001b[0m \u001b[1;33m[\u001b[0m\u001b[1;36m1\u001b[0m\u001b[1;33m,\u001b[0m\u001b[1;36m2\u001b[0m\u001b[1;33m,\u001b[0m\u001b[1;36m3\u001b[0m\u001b[1;33m,\u001b[0m\u001b[1;36m4\u001b[0m\u001b[1;33m,\u001b[0m\u001b[1;36m5\u001b[0m\u001b[1;33m]\u001b[0m\u001b[1;33m\u001b[0m\u001b[1;33m\u001b[0m\u001b[0m\n\u001b[0;32m      3\u001b[0m \u001b[1;32mfor\u001b[0m \u001b[0mnum\u001b[0m \u001b[1;32min\u001b[0m \u001b[0mnums\u001b[0m\u001b[1;33m:\u001b[0m\u001b[1;33m\u001b[0m\u001b[1;33m\u001b[0m\u001b[0m\n\u001b[1;32m----> 4\u001b[1;33m     \u001b[0mdata\u001b[0m \u001b[1;33m=\u001b[0m \u001b[0mpd\u001b[0m\u001b[1;33m.\u001b[0m\u001b[0mread_csv\u001b[0m\u001b[1;33m(\u001b[0m\u001b[1;34mf'../Notebooks/activity_cliffs_data/variables/merged_variables_{num}.csv'\u001b[0m\u001b[1;33m)\u001b[0m\u001b[1;33m\u001b[0m\u001b[1;33m\u001b[0m\u001b[0m\n\u001b[0m\u001b[0;32m      5\u001b[0m     \u001b[0mRMSEP_geencliffs_KNN\u001b[0m \u001b[1;33m=\u001b[0m \u001b[0mdata\u001b[0m\u001b[1;33m.\u001b[0m\u001b[0miloc\u001b[0m\u001b[1;33m[\u001b[0m\u001b[1;33m[\u001b[0m\u001b[1;36m0\u001b[0m\u001b[1;33m,\u001b[0m\u001b[1;36m3\u001b[0m\u001b[1;33m]\u001b[0m\u001b[1;33m,\u001b[0m \u001b[1;36m4\u001b[0m\u001b[1;33m]\u001b[0m\u001b[1;33m.\u001b[0m\u001b[0mvalues\u001b[0m\u001b[1;33m\u001b[0m\u001b[1;33m\u001b[0m\u001b[0m\n\u001b[0;32m      6\u001b[0m     \u001b[1;32mfor\u001b[0m \u001b[0mi\u001b[0m \u001b[1;32min\u001b[0m \u001b[0mrange\u001b[0m \u001b[1;33m(\u001b[0m\u001b[1;36m0\u001b[0m\u001b[1;33m,\u001b[0m\u001b[1;36m54\u001b[0m\u001b[1;33m)\u001b[0m\u001b[1;33m:\u001b[0m\u001b[1;33m\u001b[0m\u001b[1;33m\u001b[0m\u001b[0m\n",
      "\u001b[1;32m~\\Anaconda3\\lib\\site-packages\\pandas\\io\\parsers.py\u001b[0m in \u001b[0;36mread_csv\u001b[1;34m(filepath_or_buffer, sep, delimiter, header, names, index_col, usecols, squeeze, prefix, mangle_dupe_cols, dtype, engine, converters, true_values, false_values, skipinitialspace, skiprows, skipfooter, nrows, na_values, keep_default_na, na_filter, verbose, skip_blank_lines, parse_dates, infer_datetime_format, keep_date_col, date_parser, dayfirst, cache_dates, iterator, chunksize, compression, thousands, decimal, lineterminator, quotechar, quoting, doublequote, escapechar, comment, encoding, dialect, error_bad_lines, warn_bad_lines, delim_whitespace, low_memory, memory_map, float_precision)\u001b[0m\n\u001b[0;32m    684\u001b[0m     )\n\u001b[0;32m    685\u001b[0m \u001b[1;33m\u001b[0m\u001b[0m\n\u001b[1;32m--> 686\u001b[1;33m     \u001b[1;32mreturn\u001b[0m \u001b[0m_read\u001b[0m\u001b[1;33m(\u001b[0m\u001b[0mfilepath_or_buffer\u001b[0m\u001b[1;33m,\u001b[0m \u001b[0mkwds\u001b[0m\u001b[1;33m)\u001b[0m\u001b[1;33m\u001b[0m\u001b[1;33m\u001b[0m\u001b[0m\n\u001b[0m\u001b[0;32m    687\u001b[0m \u001b[1;33m\u001b[0m\u001b[0m\n\u001b[0;32m    688\u001b[0m \u001b[1;33m\u001b[0m\u001b[0m\n",
      "\u001b[1;32m~\\Anaconda3\\lib\\site-packages\\pandas\\io\\parsers.py\u001b[0m in \u001b[0;36m_read\u001b[1;34m(filepath_or_buffer, kwds)\u001b[0m\n\u001b[0;32m    450\u001b[0m \u001b[1;33m\u001b[0m\u001b[0m\n\u001b[0;32m    451\u001b[0m     \u001b[1;31m# Create the parser.\u001b[0m\u001b[1;33m\u001b[0m\u001b[1;33m\u001b[0m\u001b[1;33m\u001b[0m\u001b[0m\n\u001b[1;32m--> 452\u001b[1;33m     \u001b[0mparser\u001b[0m \u001b[1;33m=\u001b[0m \u001b[0mTextFileReader\u001b[0m\u001b[1;33m(\u001b[0m\u001b[0mfp_or_buf\u001b[0m\u001b[1;33m,\u001b[0m \u001b[1;33m**\u001b[0m\u001b[0mkwds\u001b[0m\u001b[1;33m)\u001b[0m\u001b[1;33m\u001b[0m\u001b[1;33m\u001b[0m\u001b[0m\n\u001b[0m\u001b[0;32m    453\u001b[0m \u001b[1;33m\u001b[0m\u001b[0m\n\u001b[0;32m    454\u001b[0m     \u001b[1;32mif\u001b[0m \u001b[0mchunksize\u001b[0m \u001b[1;32mor\u001b[0m \u001b[0miterator\u001b[0m\u001b[1;33m:\u001b[0m\u001b[1;33m\u001b[0m\u001b[1;33m\u001b[0m\u001b[0m\n",
      "\u001b[1;32m~\\Anaconda3\\lib\\site-packages\\pandas\\io\\parsers.py\u001b[0m in \u001b[0;36m__init__\u001b[1;34m(self, f, engine, **kwds)\u001b[0m\n\u001b[0;32m    944\u001b[0m             \u001b[0mself\u001b[0m\u001b[1;33m.\u001b[0m\u001b[0moptions\u001b[0m\u001b[1;33m[\u001b[0m\u001b[1;34m\"has_index_names\"\u001b[0m\u001b[1;33m]\u001b[0m \u001b[1;33m=\u001b[0m \u001b[0mkwds\u001b[0m\u001b[1;33m[\u001b[0m\u001b[1;34m\"has_index_names\"\u001b[0m\u001b[1;33m]\u001b[0m\u001b[1;33m\u001b[0m\u001b[1;33m\u001b[0m\u001b[0m\n\u001b[0;32m    945\u001b[0m \u001b[1;33m\u001b[0m\u001b[0m\n\u001b[1;32m--> 946\u001b[1;33m         \u001b[0mself\u001b[0m\u001b[1;33m.\u001b[0m\u001b[0m_make_engine\u001b[0m\u001b[1;33m(\u001b[0m\u001b[0mself\u001b[0m\u001b[1;33m.\u001b[0m\u001b[0mengine\u001b[0m\u001b[1;33m)\u001b[0m\u001b[1;33m\u001b[0m\u001b[1;33m\u001b[0m\u001b[0m\n\u001b[0m\u001b[0;32m    947\u001b[0m \u001b[1;33m\u001b[0m\u001b[0m\n\u001b[0;32m    948\u001b[0m     \u001b[1;32mdef\u001b[0m \u001b[0mclose\u001b[0m\u001b[1;33m(\u001b[0m\u001b[0mself\u001b[0m\u001b[1;33m)\u001b[0m\u001b[1;33m:\u001b[0m\u001b[1;33m\u001b[0m\u001b[1;33m\u001b[0m\u001b[0m\n",
      "\u001b[1;32m~\\Anaconda3\\lib\\site-packages\\pandas\\io\\parsers.py\u001b[0m in \u001b[0;36m_make_engine\u001b[1;34m(self, engine)\u001b[0m\n\u001b[0;32m   1176\u001b[0m     \u001b[1;32mdef\u001b[0m \u001b[0m_make_engine\u001b[0m\u001b[1;33m(\u001b[0m\u001b[0mself\u001b[0m\u001b[1;33m,\u001b[0m \u001b[0mengine\u001b[0m\u001b[1;33m=\u001b[0m\u001b[1;34m\"c\"\u001b[0m\u001b[1;33m)\u001b[0m\u001b[1;33m:\u001b[0m\u001b[1;33m\u001b[0m\u001b[1;33m\u001b[0m\u001b[0m\n\u001b[0;32m   1177\u001b[0m         \u001b[1;32mif\u001b[0m \u001b[0mengine\u001b[0m \u001b[1;33m==\u001b[0m \u001b[1;34m\"c\"\u001b[0m\u001b[1;33m:\u001b[0m\u001b[1;33m\u001b[0m\u001b[1;33m\u001b[0m\u001b[0m\n\u001b[1;32m-> 1178\u001b[1;33m             \u001b[0mself\u001b[0m\u001b[1;33m.\u001b[0m\u001b[0m_engine\u001b[0m \u001b[1;33m=\u001b[0m \u001b[0mCParserWrapper\u001b[0m\u001b[1;33m(\u001b[0m\u001b[0mself\u001b[0m\u001b[1;33m.\u001b[0m\u001b[0mf\u001b[0m\u001b[1;33m,\u001b[0m \u001b[1;33m**\u001b[0m\u001b[0mself\u001b[0m\u001b[1;33m.\u001b[0m\u001b[0moptions\u001b[0m\u001b[1;33m)\u001b[0m\u001b[1;33m\u001b[0m\u001b[1;33m\u001b[0m\u001b[0m\n\u001b[0m\u001b[0;32m   1179\u001b[0m         \u001b[1;32melse\u001b[0m\u001b[1;33m:\u001b[0m\u001b[1;33m\u001b[0m\u001b[1;33m\u001b[0m\u001b[0m\n\u001b[0;32m   1180\u001b[0m             \u001b[1;32mif\u001b[0m \u001b[0mengine\u001b[0m \u001b[1;33m==\u001b[0m \u001b[1;34m\"python\"\u001b[0m\u001b[1;33m:\u001b[0m\u001b[1;33m\u001b[0m\u001b[1;33m\u001b[0m\u001b[0m\n",
      "\u001b[1;32m~\\Anaconda3\\lib\\site-packages\\pandas\\io\\parsers.py\u001b[0m in \u001b[0;36m__init__\u001b[1;34m(self, src, **kwds)\u001b[0m\n\u001b[0;32m   2006\u001b[0m         \u001b[0mkwds\u001b[0m\u001b[1;33m[\u001b[0m\u001b[1;34m\"usecols\"\u001b[0m\u001b[1;33m]\u001b[0m \u001b[1;33m=\u001b[0m \u001b[0mself\u001b[0m\u001b[1;33m.\u001b[0m\u001b[0musecols\u001b[0m\u001b[1;33m\u001b[0m\u001b[1;33m\u001b[0m\u001b[0m\n\u001b[0;32m   2007\u001b[0m \u001b[1;33m\u001b[0m\u001b[0m\n\u001b[1;32m-> 2008\u001b[1;33m         \u001b[0mself\u001b[0m\u001b[1;33m.\u001b[0m\u001b[0m_reader\u001b[0m \u001b[1;33m=\u001b[0m \u001b[0mparsers\u001b[0m\u001b[1;33m.\u001b[0m\u001b[0mTextReader\u001b[0m\u001b[1;33m(\u001b[0m\u001b[0msrc\u001b[0m\u001b[1;33m,\u001b[0m \u001b[1;33m**\u001b[0m\u001b[0mkwds\u001b[0m\u001b[1;33m)\u001b[0m\u001b[1;33m\u001b[0m\u001b[1;33m\u001b[0m\u001b[0m\n\u001b[0m\u001b[0;32m   2009\u001b[0m         \u001b[0mself\u001b[0m\u001b[1;33m.\u001b[0m\u001b[0munnamed_cols\u001b[0m \u001b[1;33m=\u001b[0m \u001b[0mself\u001b[0m\u001b[1;33m.\u001b[0m\u001b[0m_reader\u001b[0m\u001b[1;33m.\u001b[0m\u001b[0munnamed_cols\u001b[0m\u001b[1;33m\u001b[0m\u001b[1;33m\u001b[0m\u001b[0m\n\u001b[0;32m   2010\u001b[0m \u001b[1;33m\u001b[0m\u001b[0m\n",
      "\u001b[1;32mpandas\\_libs\\parsers.pyx\u001b[0m in \u001b[0;36mpandas._libs.parsers.TextReader.__cinit__\u001b[1;34m()\u001b[0m\n",
      "\u001b[1;32mpandas\\_libs\\parsers.pyx\u001b[0m in \u001b[0;36mpandas._libs.parsers.TextReader._setup_parser_source\u001b[1;34m()\u001b[0m\n",
      "\u001b[1;31mFileNotFoundError\u001b[0m: [Errno 2] No such file or directory: '../Notebooks/activity_cliffs_data/variables/merged_variables_1.csv'"
     ]
    }
   ],
   "source": [
    "lijst_geencliffs_KNN = []\n",
    "nums = [1,2,3,4,5]\n",
    "for num in nums:\n",
    "    data = pd.read_csv(f'../Notebooks/activity_cliffs_data/variables/merged_variables_{num}.csv')\n",
    "    RMSEP_geencliffs_KNN = data.iloc[[0,3], 4].values\n",
    "    for i in range (0,54):\n",
    "        lijst_geencliffs_KNN.append(RMSEP_geencliffs_KNN[i])\n",
    "    \n",
    "print(lijst_geencliffs)\n",
    "print(len(lijst_geencliffs_KNN))\n",
    "    "
   ]
  },
  {
   "cell_type": "code",
   "execution_count": 437,
   "metadata": {},
   "outputs": [
    {
     "name": "stdout",
     "output_type": "stream",
     "text": [
      "[0.9985676028853748, 1.0149683873275082, 0.9497123884703124, 0.875637138955673, 0.8868934761365002, 0.9620820855615576, 0.9645021730498878, 0.8550096376383334, 0.9162069205357136, 1.0607956203692577, 1.0321203713537457, 1.0401402131806294, 1.0011709005586509, 1.0301114245553358, 0.9434419125893494, 1.1192404894568522, 0.9169876411716588, 0.8556213297758561, 0.7783326923556986, 0.6908416936839796, 0.7545778293634852, 0.8493528686350592, 0.8106414258578939, 0.8578528428119369, 0.8905694744126652, 0.8291830613812141, 0.8661732740998414, 1.104039643743449, 0.94663731143809, 1.04209776240771, 1.0090562529317348, 0.974889748949076, 1.0165176651989374, 1.1234579074434248, 0.6683616277628363, 0.7984937082411321, 0.8824496253468493, 0.7581115949587051, 0.8719758314196595, 0.9036345111363916, 0.8593995988343092, 0.9509230535135764, 0.9039896668959946, 0.8510502783717386, 0.904127432301666, 1.1178941146078245, 1.030829122027336, 1.0960283146925331, 1.0808216983089791, 1.106658273493362, 1.0767965259242207, 1.2416042651868566, 0.6702916323316587, 0.7378524778965319, 0.9985676028853748, 1.012534393138427, 0.9497123884703124, 0.875637138955673, 0.8993658213488861, 0.9620820855615576, 0.9645021730498878, 0.8461931432009477, 0.9162069205357136, 1.0607956203692577, 1.020974268860667, 1.0401402131806294, 1.0011709005586509, 1.0262224884521751, 0.9434419125893494, 1.1192404894568522, 0.9179737365892774, 0.8556213297758561, 0.7783326923556986, 0.6991608036541164, 0.7545778293634852, 0.8493528686350592, 0.8107534165249097, 0.8578528428119369, 0.8905694744126652, 0.8292803331481085, 0.8661732740998414, 1.104039643743449, 0.9574321859594168, 1.04209776240771, 1.0090562529317348, 0.9764660099054306, 1.0165176651989374, 1.1234579074434248, 0.6662604536943532, 0.7984937082411321, 0.8824496253468493, 0.7582666704671427, 0.8719758314196595, 0.9036345111363916, 0.8593933516944031, 0.9509230535135764, 0.9039896668959946, 0.8482232128288812, 0.904127432301666, 1.1178941146078245, 1.030436755265282, 1.0960283146925331, 1.0808216983089791, 1.1057692163056578, 1.0767965259242207, 1.2416042651868566, 0.6704185806623468, 0.7378524778965319, 0.9985676028853748, 0.9986672623346229, 0.9497123884703124, 0.875637138955673, 0.8821110197461988, 0.9620820855615576, 0.9645021730498878, 0.8728059246281014, 0.9162069205357136, 1.0607956203692577, 1.0229305317682094, 1.0401402131806294, 1.0011709005586509, 1.0374786411107222, 0.9434419125893494, 1.1192404894568522, 0.912620457314188, 0.8556213297758561, 0.7783326923556986, 0.6908825011705128, 0.7545778293634852, 0.8493528686350592, 0.8085789543823916, 0.8578528428119369, 0.8905694744126652, 0.8258273032016595, 0.8661732740998414, 1.104039643743449, 0.9435866779632924, 1.04209776240771, 1.0090562529317348, 0.9815402951270092, 1.0165176651989374, 1.1234579074434248, 0.6674979429414309, 0.7984937082411321, 0.8824496253468493, 0.7605275114062527, 0.8719758314196595, 0.9036345111363916, 0.8605181457343937, 0.9509230535135764, 0.9039896668959946, 0.8450681961506162, 0.904127432301666, 1.1178941146078245, 1.029462518354586, 1.0960283146925331, 1.0808216983089791, 1.107998015273769, 1.0767965259242207, 1.2416042651868566, 0.6705715499852052, 0.7378524778965319, 0.9985676028853748, 1.0102712816072306, 0.9497123884703124, 0.875637138955673, 0.8918507425504395, 0.9620820855615576, 0.9645021730498878, 0.8507706330014547, 0.9162069205357136, 1.0607956203692577, 1.0163213068925558, 1.0401402131806294, 1.0011709005586509, 1.037704141323842, 0.9434419125893494, 1.1192404894568522, 0.9224679902280644, 0.8556213297758561, 0.7783326923556986, 0.6909681200582645, 0.7545778293634852, 0.8493528686350592, 0.8109529580923702, 0.8578528428119369, 0.8905694744126652, 0.8259151385755151, 0.8661732740998414, 1.104039643743449, 0.9516516645238828, 1.04209776240771, 1.0090562529317348, 0.977889045343319, 1.0165176651989374, 1.1234579074434248, 0.6632412581012269, 0.7984937082411321, 0.8824496253468493, 0.7568980829524201, 0.8719758314196595, 0.9036345111363916, 0.8571939930391251, 0.9509230535135764, 0.9039896668959946, 0.84857519148664, 0.904127432301666, 1.1178941146078245, 1.0283676775416828, 1.0960283146925331, 1.0808216983089791, 1.1052597134512805, 1.0767965259242207, 1.2416042651868566, 0.6709179377108543, 0.7378524778965319, 0.9985676028853748, 1.0013439089196663, 0.9497123884703124, 0.875637138955673, 0.8847923417987072, 0.9620820855615576, 0.9645021730498878, 0.8606597885747802, 0.9162069205357136, 1.0607956203692577, 1.029851797276597, 1.0401402131806294, 1.0011709005586509, 1.0328352977311792, 0.9434419125893494, 1.1192404894568522, 0.9203393734156928, 0.8556213297758561, 0.7783326923556986, 0.6935436023099079, 0.7545778293634852, 0.8493528686350592, 0.8123401177193414, 0.8578528428119369, 0.8905694744126652, 0.8284880295111785, 0.8661732740998414, 1.104039643743449, 0.9453374359431036, 1.04209776240771, 1.0090562529317348, 0.9765031219418672, 1.0165176651989374, 1.1234579074434248, 0.6663173245140285, 0.7984937082411321, 0.8824496253468493, 0.7572391940230906, 0.8719758314196595, 0.9036345111363916, 0.8605964126915917, 0.9509230535135764, 0.9039896668959946, 0.846768796537115, 0.904127432301666, 1.1178941146078245, 1.029288683682961, 1.0960283146925331, 1.0808216983089791, 1.1071968762194546, 1.0767965259242207, 1.2416042651868566, 0.6694415268550954, 0.7378524778965319]\n",
      "270\n"
     ]
    }
   ],
   "source": [
    "lijst_welcliffs = []\n",
    "nums = [1,2,3,4,5]\n",
    "for num in nums:\n",
    "    data = pd.read_csv(f'../Notebooks/variables/merged_variables_{num}_withcliffs.csv')\n",
    "    RMSEP_welcliffs = data.iloc[0:54, 4].values\n",
    "    for i in range (0,54):\n",
    "        lijst_welcliffs.append(RMSEP_welcliffs[i])\n",
    "    \n",
    "print(lijst_welcliffs)\n",
    "print(len(lijst_welcliffs))"
   ]
  },
  {
   "cell_type": "code",
   "execution_count": 439,
   "metadata": {},
   "outputs": [
    {
     "name": "stdout",
     "output_type": "stream",
     "text": [
      "KruskalResult(statistic=177.20130513121146, pvalue=1.979314922528911e-40)\n"
     ]
    }
   ],
   "source": [
    "kruskal = stats.kruskal(lijst_geencliffs, lijst_welcliffs)\n",
    "print(kruskal)"
   ]
  },
  {
   "cell_type": "code",
   "execution_count": 472,
   "metadata": {},
   "outputs": [
    {
     "data": {
      "image/png": "[encoded data removed]",
      "text/plain": [
       "<Figure size 648x432 with 1 Axes>"
      ]
     },
     "metadata": {
      "needs_background": "light"
     },
     "output_type": "display_data"
    }
   ],
   "source": [
    "data_to_plot = [lijst_geencliffs, lijst_welcliffs]\n",
    "\n",
    "# Import libraries\n",
    "import matplotlib.pyplot as plt\n",
    "import numpy as np\n",
    " \n",
    "fig = plt.figure(figsize =(9, 6))\n",
    "ax = fig.add_subplot(111)\n",
    " \n",
    "# Creating axes instance\n",
    "bp = ax.boxplot(data_to_plot, patch_artist = True,\n",
    "                vert = 1)\n",
    "\n",
    "for box in bp['boxes']: \n",
    "    box.set(color ='mediumturquoise')\n",
    "    \n",
    "# changing color and linewidth of\n",
    "# whiskers\n",
    "for whisker in bp['whiskers']:\n",
    "    whisker.set(color ='black',\n",
    "                linewidth = 1.5,\n",
    "                linestyle =\":\")\n",
    " \n",
    "# changing color and linewidth of\n",
    "# caps\n",
    "for cap in bp['caps']:\n",
    "    cap.set(color ='black',\n",
    "            linewidth = 2)\n",
    " \n",
    "# changing color and linewidth of\n",
    "# medians\n",
    "for median in bp['medians']:\n",
    "    median.set(color ='royalblue',\n",
    "               linewidth = 3)\n",
    " \n",
    "# changing style of fliers\n",
    "for flier in bp['fliers']:\n",
    "    flier.set(marker ='D',\n",
    "              color ='black',\n",
    "              alpha = 0.5)\n",
    "     \n",
    "# x-axis labels\n",
    "ax.set_xticklabels(['RMSEP without cliffs', 'RMSEP with cliffs'])\n",
    " \n",
    "# Adding title\n",
    "plt.title(\"Distribution of RMSEP for data with and without ACs\")\n",
    "\n",
    "plt.grid(color='grey', axis='y', linestyle='-', linewidth=0.25, alpha=0.5)\n",
    "\n",
    "# Removing top axes and right axes\n",
    "# ticks\n",
    "ax.get_xaxis().tick_bottom()\n",
    "ax.get_yaxis().tick_left()\n",
    "     \n",
    "# show plot\n",
    "plt.show(bp)\n",
    "    \n",
    "\n",
    "# Set plot title\n",
    "#plt.set_title('Distribution of RMSEP for data with and without ACs')\n",
    "# Add major gridlines in the y-axis\n",
    "#f'../Notebooks/variables/merged_variables_{num}_withcliffs.csv'\n",
    "# Save the figure\n",
    "fig.savefig(f'../Notebooks/Figures/totalRMSEP.png', bbox_inches='tight')"
   ]
  }
 ],
 "metadata": {
  "kernelspec": {
   "display_name": "Python 3",
   "language": "python",
   "name": "python3"
  },
  "language_info": {
   "codemirror_mode": {
    "name": "ipython",
    "version": 3
   },
   "file_extension": ".py",
   "mimetype": "text/x-python",
   "name": "python",
   "nbconvert_exporter": "python",
   "pygments_lexer": "ipython3",
   "version": "3.8.5"
  }
 },
 "nbformat": 4,
 "nbformat_minor": 4
}
