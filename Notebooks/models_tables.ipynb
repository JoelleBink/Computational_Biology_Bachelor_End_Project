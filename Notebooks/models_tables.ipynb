{
 "cells": [
  {
   "cell_type": "code",
   "execution_count": 2,
   "metadata": {},
   "outputs": [],
   "source": [
    "# Imports python\n",
    "import numpy as np\n",
    "import pandas as pd\n",
    "from tqdm import tqdm\n",
    "import matplotlib.pyplot as plt"
   ]
  },
  {
   "cell_type": "code",
   "execution_count": 3,
   "metadata": {},
   "outputs": [],
   "source": [
    "knn_variables = pd.read_csv('variables/knn_variables.csv')\n",
    "rf_variables = pd.read_csv('variables/rf_variables.csv')\n",
    "svr_variables = pd.read_csv('variables/svr_variables.csv')"
   ]
  },
  {
   "cell_type": "code",
   "execution_count": 52,
   "metadata": {},
   "outputs": [],
   "source": [
    "df_from_each_file = (knn_variables, rf_variables, svr_variables)\n",
    "\n",
    "nameslist = ['KNN', 'RF', 'SVR']\n",
    "keys = ['KNN', 'RF', 'SVR']\n",
    "\n",
    "df_merged = pd.concat(df_from_each_file)\n",
    "\n",
    "df_merged.to_csv(\"variables/merged_variables.csv\", index=False)"
   ]
  }
 ],
 "metadata": {
  "kernelspec": {
   "display_name": "Python 3",
   "language": "python",
   "name": "python3"
  },
  "language_info": {
   "codemirror_mode": {
    "name": "ipython",
    "version": 3
   },
   "file_extension": ".py",
   "mimetype": "text/x-python",
   "name": "python",
   "nbconvert_exporter": "python",
   "pygments_lexer": "ipython3",
   "version": "3.8.5"
  }
 },
 "nbformat": 4,
 "nbformat_minor": 5
}
