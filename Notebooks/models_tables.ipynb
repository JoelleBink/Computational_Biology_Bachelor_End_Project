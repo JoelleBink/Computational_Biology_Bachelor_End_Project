{
 "cells": [
  {
   "cell_type": "code",
   "execution_count": 7,
   "metadata": {},
   "outputs": [],
   "source": [
    "# Imports python libraries\n",
    "import numpy as np\n",
    "import pandas as pd\n",
    "from tqdm import tqdm\n",
    "import matplotlib.pyplot as plt"
   ]
  },
  {
   "cell_type": "code",
   "execution_count": 8,
   "metadata": {},
   "outputs": [
    {
     "name": "stderr",
     "output_type": "stream",
     "text": [
      "100%|████████████████████████████████████████████████████████████████████████████████████| 3/3 [00:00<00:00, 19.08it/s]\n"
     ]
    }
   ],
   "source": [
    "# Parameters\n",
    "chems = [239, 4005, 224]\n",
    "descriptors = ['CATS', 'CDKmolprop', 'constitutional', 'WHIM', 'Druglike', 'MorganFP']\n",
    "models = ['knn', 'rf', 'svr']\n",
    "\n",
    "# Create list for storing variables of each model, chem, descriptor combination\n",
    "df_from_each_file = []\n",
    "\n",
    "# Loop over all combinations to fill the list\n",
    "for chem in tqdm(chems):\n",
    "    for descriptor in descriptors:\n",
    "        for model in models:\n",
    "            variables = pd.read_csv(f'activity_cliffs_data/paper_variables/{model}_{chem}_{descriptor}_variables_nocliffs.csv')\n",
    "            \n",
    "            df_from_each_file.append(variables)\n",
    "\n",
    "# Concat the list into one large dataframe. Then convert it into a CSV file and store it\n",
    "df_merged = pd.concat(df_from_each_file)\n",
    "#df_merged.to_csv(\"variables/merged_variables_5.csv\", index=False)\n",
    "df_merged.to_csv(f\"activity_cliffs_data/paper_variables/merged_variables_nocliffs.csv\", index=False)"
   ]
  },
  {
   "cell_type": "code",
   "execution_count": null,
   "metadata": {},
   "outputs": [],
   "source": []
  }
 ],
 "metadata": {
  "kernelspec": {
   "display_name": "Python 3",
   "language": "python",
   "name": "python3"
  },
  "language_info": {
   "codemirror_mode": {
    "name": "ipython",
    "version": 3
   },
   "file_extension": ".py",
   "mimetype": "text/x-python",
   "name": "python",
   "nbconvert_exporter": "python",
   "pygments_lexer": "ipython3",
   "version": "3.8.5"
  }
 },
 "nbformat": 4,
 "nbformat_minor": 5
}
