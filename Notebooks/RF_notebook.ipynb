{
 "cells": [
  {
   "cell_type": "code",
   "execution_count": 2,
   "metadata": {},
   "outputs": [
    {
     "name": "stdout",
     "output_type": "stream",
     "text": [
      "Fitting 2 folds for each of 4 candidates, totalling 8 fits\n"
     ]
    },
    {
     "name": "stderr",
     "output_type": "stream",
     "text": [
      "[Parallel(n_jobs=-1)]: Using backend LokyBackend with 8 concurrent workers.\n",
      "[Parallel(n_jobs=-1)]: Done   2 out of   8 | elapsed:    5.3s remaining:   16.1s\n",
      "[Parallel(n_jobs=-1)]: Done   8 out of   8 | elapsed:   27.1s finished\n"
     ]
    },
    {
     "name": "stdout",
     "output_type": "stream",
     "text": [
      "The best value of n_estimators is  100\n",
      "\n",
      "\n",
      "MSE: 0.6362316671060086\n",
      "variance_score: 0.42466771832169226\n",
      "max_error_score: 3.4299009521173858\n",
      "r2_value: 0.4221341046871552\n"
     ]
    }
   ],
   "source": [
    "from sklearn.ensemble import RandomForestRegressor\n",
    "from sklearn.model_selection import GridSearchCV\n",
    "from sklearn.model_selection import cross_val_score\n",
    "from sklearn.metrics import explained_variance_score, max_error, r2_score, mean_squared_error\n",
    "import pandas as pd\n",
    "from tqdm import tqdm\n",
    "import matplotlib.pyplot as plt\n",
    "\n",
    "# load the data\n",
    "train_data = pd.read_csv(r'C:\\Users\\s159132\\PycharmProjects\\Computational_Biology_Bachelor_End_Project\\CHEMBL239_dataset_train.csv')\n",
    "test_data = pd.read_csv(r'C:\\Users\\s159132\\PycharmProjects\\Computational_Biology_Bachelor_End_Project\\CHEMBL239_dataset_test.csv')\n",
    "\n",
    "# Get x and y values\n",
    "y_train = train_data.loc[:, 'exp_mean']\n",
    "y_test = test_data.loc[:, 'exp_mean']\n",
    "X_train = train_data.loc[:, 'Bit 1' : 'Bit 1024']\n",
    "X_test = test_data.loc[:, 'Bit 1' : 'Bit 1024']\n",
    "\n",
    "# Set the parameters to check with GridSearch\n",
    "param = {'n_estimators': [50, 100, 500, 1000]}\n",
    "\n",
    "# GridSearch on RandomForestRegressor\n",
    "rf_model = GridSearchCV(RandomForestRegressor(), param, cv=2, return_train_score=True, n_jobs=-1, verbose=1).fit(X_train,y_train)\n",
    "\n",
    "# Store the best n_estimator value\n",
    "best_param = rf_model.best_params_['n_estimators']\n",
    "\n",
    "# Make randomforest with best value for n_estimator\n",
    "best_rf_model = RandomForestRegressor(n_estimators = best_param).fit(X_train,y_train)\n",
    "\n",
    "# Make prediction\n",
    "y_pred_rf=best_rf_model.predict(X_test)\n",
    "\n",
    "# Print metrics for RandomForest\n",
    "print('The best value of n_estimators is ', best_param)\n",
    "print('\\n')\n",
    "print(\"MSE:\", mean_squared_error(y_test, y_pred_rf))\n",
    "print('variance_score:', explained_variance_score(y_test, y_pred_rf))\n",
    "print('max_error_score:', max_error(y_test, y_pred_rf))\n",
    "print('r2_value:', r2_score(y_test, y_pred_rf))"
   ]
  },
  {
   "cell_type": "code",
   "execution_count": null,
   "metadata": {},
   "outputs": [],
   "source": []
  }
 ],
 "metadata": {
  "kernelspec": {
   "display_name": "Python 3",
   "language": "python",
   "name": "python3"
  },
  "language_info": {
   "codemirror_mode": {
    "name": "ipython",
    "version": 3
   },
   "file_extension": ".py",
   "mimetype": "text/x-python",
   "name": "python",
   "nbconvert_exporter": "python",
   "pygments_lexer": "ipython3",
   "version": "3.8.5"
  }
 },
 "nbformat": 4,
 "nbformat_minor": 4
}
