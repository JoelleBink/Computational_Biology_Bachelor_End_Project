{
 "cells": [
  {
   "cell_type": "code",
   "execution_count": 1,
   "metadata": {},
   "outputs": [],
   "source": [
    "%load_ext autoreload\n",
    "%autoreload 2\n",
    "import pandas as pd\n",
    "import numpy as np\n",
    "\n",
    "from rdkit.Chem import Draw # for molecule depiction\n",
    "from rdkit.Chem.Draw import IPythonConsole\n",
    "from rdkit import Chem\n",
    "\n",
    "from activity_cliffs import cliffs_finder # for the training set\n",
    "from activity_cliffs import cliffs_finder_test # for the training set"
   ]
  },
  {
   "cell_type": "markdown",
   "metadata": {},
   "source": [
    "# Example with one of the datasets"
   ]
  },
  {
   "cell_type": "markdown",
   "metadata": {},
   "source": [
    "Searching for activity cliffs within the training set (e.g., for when you evaluate the cross-validation performance)"
   ]
  },
  {
   "cell_type": "markdown",
   "metadata": {},
   "source": [
    "## Training set"
   ]
  },
  {
   "cell_type": "markdown",
   "metadata": {},
   "source": [
    "### Calculation"
   ]
  },
  {
   "cell_type": "code",
   "execution_count": 2,
   "metadata": {},
   "outputs": [],
   "source": [
    "# data import\n",
    "X_train = pd.read_csv('../descriptors_data/CHEMBL224_train_CATS.csv') # Change with your path\n",
    "smiles_train = X_train['smiles']\n",
    "y_train = X_train['Y']"
   ]
  },
  {
   "cell_type": "markdown",
   "metadata": {},
   "source": [
    "Here, you will obtain two vectors: <div>\n",
    "    (a) *iscliff*, which tells you whether a compound has a close analog with a very different Y (marked as \"True\") <div>\n",
    "    (b) *index_cliff*, which tells you which compound it is <div>\n",
    "    (c) *max_similarities*, which tells you how close the closest compound is "
   ]
  },
  {
   "cell_type": "code",
   "execution_count": 3,
   "metadata": {},
   "outputs": [],
   "source": [
    "iscliff, index_cliff, max_similarities = cliffs_finder(smiles_train, y_train, activity_thr=1, similarity_thr=0.90)"
   ]
  },
  {
   "cell_type": "markdown",
   "metadata": {},
   "source": [
    "You can see where you have activity cliffs:"
   ]
  },
  {
   "cell_type": "code",
   "execution_count": 4,
   "metadata": {},
   "outputs": [
    {
     "data": {
      "text/plain": [
       "(array([   1,   14,   20,   35,   86,   95,  119,  129,  130,  132,  140,\n",
       "         142,  155,  156,  188,  201,  204,  236,  239,  281,  296,  302,\n",
       "         307,  339,  342,  345,  369,  376,  402,  404,  411,  414,  464,\n",
       "         466,  500,  501,  504,  516,  526,  548,  553,  563,  566,  611,\n",
       "         612,  621,  635,  643,  654,  659,  669,  671,  682,  700,  719,\n",
       "         728,  738,  745,  757,  770,  773,  786,  805,  812,  813,  824,\n",
       "         829,  856,  869,  872,  874,  877,  886,  896,  904,  916,  921,\n",
       "         927,  934,  948,  949,  959,  971, 1018, 1036, 1039, 1047, 1058,\n",
       "        1074, 1079, 1081, 1106, 1112, 1117, 1132, 1138, 1176, 1187, 1195,\n",
       "        1199, 1200, 1204, 1222, 1232, 1272, 1275, 1290, 1307, 1316, 1319,\n",
       "        1321, 1327, 1342, 1353, 1365, 1370, 1390, 1413, 1414, 1420, 1421,\n",
       "        1447, 1451, 1458, 1461, 1480, 1492, 1521, 1523, 1528, 1575, 1582,\n",
       "        1604, 1625, 1626, 1645, 1652, 1656, 1668, 1684, 1689, 1696, 1710,\n",
       "        1730, 1745, 1764, 1787, 1792, 1795, 1798, 1843, 1852, 1893, 1897,\n",
       "        1923, 1930, 1941, 1960, 1963, 1977, 1986, 2005, 2010, 2012, 2016,\n",
       "        2018, 2024, 2027, 2035, 2042, 2057, 2077, 2082, 2111, 2118, 2119,\n",
       "        2144], dtype=int64),)"
      ]
     },
     "execution_count": 4,
     "metadata": {},
     "output_type": "execute_result"
    }
   ],
   "source": [
    "# returns the indices of where you have a True\n",
    "np.where(iscliff)"
   ]
  },
  {
   "cell_type": "markdown",
   "metadata": {},
   "source": [
    "for instance, we can have a look at the first row where you have a \"true\" and see what's that neighbor"
   ]
  },
  {
   "cell_type": "code",
   "execution_count": 137,
   "metadata": {},
   "outputs": [],
   "source": [
    "mol1_index = 1 # selected molecule (from the previous array, just the first index there)\n",
    "mol2_index = index_cliff[mol1_index] # neighbor\n",
    "# now we convert them into molecules with rdkit\n",
    "mol1 = Chem.MolFromSmiles(smiles_train[mol1_index])\n",
    "mol2 = Chem.MolFromSmiles(smiles_train[mol2_index])"
   ]
  },
  {
   "cell_type": "markdown",
   "metadata": {},
   "source": [
    "### Visualization"
   ]
  },
  {
   "cell_type": "markdown",
   "metadata": {},
   "source": [
    "I would not edit what follows, just change what mol1 and mol2 are"
   ]
  },
  {
   "cell_type": "code",
   "execution_count": 139,
   "metadata": {},
   "outputs": [
    {
     "data": {
      "image/png": "[encoded data removed]",
      "text/plain": [
       "<PIL.PngImagePlugin.PngImageFile image mode=RGB size=600x300 at 0x7FE331846128>"
      ]
     },
     "execution_count": 139,
     "metadata": {},
     "output_type": "execute_result"
    }
   ],
   "source": [
    "# now, you can have a look at those molecules\n",
    "Draw.MolsToGridImage([mol1, mol2],molsPerRow=2,subImgSize=(300,300), legends=['Ref compound: y = ' + str(np.round(y_train[mol1_index],2)), 'Cliff: y = ' + str(np.round(y_train[mol2_index],2)) + '; similarity = ' + str(np.round(max_similarities[mol1_index],2))])"
   ]
  },
  {
   "cell_type": "markdown",
   "metadata": {},
   "source": [
    "LOOK AT HOW SIMILAR THESE COMPOUNDS ARE! (remember, the Y is a logarithm of the affinity to the receptor (in nanomolar units), so 1 unit of difference in the response is huge!)"
   ]
  },
  {
   "cell_type": "markdown",
   "metadata": {},
   "source": [
    "## Test set"
   ]
  },
  {
   "cell_type": "markdown",
   "metadata": {},
   "source": [
    "For the test set, we will compute the similarity to the training set compounds. Everything else will work as previously"
   ]
  },
  {
   "cell_type": "code",
   "execution_count": 140,
   "metadata": {},
   "outputs": [],
   "source": [
    "# data import\n",
    "X_test = pd.read_csv('/media/fgrisoni/disk2/projects/FG_Activity_cliffs/Activity_cliffs/code/data_curation/data_descriptors/CHEMBL224_test_CATS.csv') # Change with your path\n",
    "smiles_test = X_test['smiles']\n",
    "y_test = X_test['Y']"
   ]
  },
  {
   "cell_type": "markdown",
   "metadata": {},
   "source": [
    "We will use a dedicated function that works in the same way as the previous one"
   ]
  },
  {
   "cell_type": "code",
   "execution_count": 141,
   "metadata": {},
   "outputs": [],
   "source": [
    "iscliff, index_cliff, max_similarities = cliffs_finder_test(smiles_train, smiles_test, y_train, y_test,activity_thr=1, similarity_thr=0.90)"
   ]
  },
  {
   "cell_type": "code",
   "execution_count": 142,
   "metadata": {},
   "outputs": [
    {
     "data": {
      "text/plain": [
       "(array([  15,   18,   27,   33,   40,   77,   86,  102,  106,  121,  140,\n",
       "         159,  163,  180,  219,  242,  254,  270,  276,  341,  344,  357,\n",
       "         375,  379,  381,  382,  386,  387,  410,  421,  430,  438,  440,\n",
       "         464,  465,  487,  496,  539,  555,  562,  586,  589,  597,  625,\n",
       "         630,  637,  638,  642,  651,  684,  699,  765,  779,  789,  806,\n",
       "         812,  815,  828,  830,  851,  857,  876,  884,  902,  924,  954,\n",
       "         964,  970,  988,  991,  993, 1000, 1003, 1008, 1009, 1029, 1031,\n",
       "        1040]),)"
      ]
     },
     "execution_count": 142,
     "metadata": {},
     "output_type": "execute_result"
    }
   ],
   "source": [
    "# a preview of cliffs\n",
    "np.where(iscliff)"
   ]
  },
  {
   "cell_type": "code",
   "execution_count": 145,
   "metadata": {},
   "outputs": [],
   "source": [
    "mol1_index = 18 # selected molecule (from the previous array, just one random)\n",
    "mol2_index = index_cliff[mol1_index] # neighbor\n",
    "# now we convert them into molecules with rdkit\n",
    "mol1 = Chem.MolFromSmiles(smiles_test[mol1_index]) # careful here! In one case it is test, in the other one is train\n",
    "mol2 = Chem.MolFromSmiles(smiles_train[mol2_index])"
   ]
  },
  {
   "cell_type": "markdown",
   "metadata": {},
   "source": [
    "Visualization as before"
   ]
  },
  {
   "cell_type": "code",
   "execution_count": 146,
   "metadata": {},
   "outputs": [
    {
     "data": {
      "image/png": "[encoded data removed]",
      "text/plain": [
       "<PIL.PngImagePlugin.PngImageFile image mode=RGB size=600x300 at 0x7FE3318462B0>"
      ]
     },
     "execution_count": 146,
     "metadata": {},
     "output_type": "execute_result"
    }
   ],
   "source": [
    "# now, you can have a look at those molecules (careful for indices)\n",
    "Draw.MolsToGridImage([mol1, mol2],molsPerRow=2,subImgSize=(300,300), legends=['Ref compound: y = ' + str(np.round(y_test[mol1_index],2)), 'Cliff: y = ' + str(np.round(y_train[mol2_index],2)) + '; similarity = ' + str(np.round(max_similarities[mol1_index],2))])"
   ]
  }
 ],
 "metadata": {
  "kernelspec": {
   "display_name": "Python [conda env:myenv]",
   "language": "python",
   "name": "conda-env-myenv-py"
  },
  "language_info": {
   "codemirror_mode": {
    "name": "ipython",
    "version": 3
   },
   "file_extension": ".py",
   "mimetype": "text/x-python",
   "name": "python",
   "nbconvert_exporter": "python",
   "pygments_lexer": "ipython3",
   "version": "3.6.13"
  }
 },
 "nbformat": 4,
 "nbformat_minor": 5
}
